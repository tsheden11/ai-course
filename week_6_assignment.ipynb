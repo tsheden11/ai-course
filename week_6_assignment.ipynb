{
  "nbformat": 4,
  "nbformat_minor": 0,
  "metadata": {
    "colab": {
      "provenance": [],
      "authorship_tag": "ABX9TyOBuO9aZoMlhpNvlZXhlUwn",
      "include_colab_link": true
    },
    "kernelspec": {
      "name": "python3",
      "display_name": "Python 3"
    },
    "language_info": {
      "name": "python"
    }
  },
  "cells": [
    {
      "cell_type": "markdown",
      "metadata": {
        "id": "view-in-github",
        "colab_type": "text"
      },
      "source": [
        "<a href=\"https://colab.research.google.com/github/tsheden11/ai-course/blob/week_6/week_6_assignment.ipynb\" target=\"_parent\"><img src=\"https://colab.research.google.com/assets/colab-badge.svg\" alt=\"Open In Colab\"/></a>"
      ]
    },
    {
      "cell_type": "markdown",
      "source": [
        "Assignment 1 - Movie ticketing\n",
        "\n",
        "Cinema gives discounts based on age\n",
        "\n",
        "Children below 12 : pay 300\n",
        "Teens (12 - 17) : pay 500\n",
        "Adults (18 - 59) : pay 800\n",
        "Seniors (60+) : pay 400\n",
        "\n",
        "Python code that:\n",
        "\n",
        "1. Asks the user to enter their age\n",
        "2. Uses an if statement to decide the ticket price\n",
        "3. Prints Your ticket price is {x} where {x} is the amount\n",
        "\n",
        "\n",
        "Extra challenge -\n",
        "Add another condition if today is wednesday - then everyone gets a 100 off"
      ],
      "metadata": {
        "id": "nmHm7mKfsC3G"
      }
    },
    {
      "cell_type": "code",
      "source": [
        "# Assignment 1\n",
        "from datetime import datetime\n",
        "\n",
        "# Get the full day name\n",
        "today_date = datetime.today()\n",
        "day_today = today_date.strftime(\"%A\")\n",
        "\n",
        "age_str = input('Age ?')\n",
        "age_int = int(age_str)\n",
        "ticket_price = 0\n",
        "\n",
        "if age_int <= 12:\n",
        "  ticket_price = 300\n",
        "elif age_int <= 17:\n",
        "  ticket_price = 500\n",
        "elif age_int <= 59:\n",
        "  ticket_price = 800\n",
        "else:\n",
        "  ticket_price = 400\n",
        "\n",
        "  if day_today =='Wednesday':\n",
        "    ticket_price = ticket_price - 100\n",
        "\n",
        "print(f'Your ticket costs {ticket_price}')\n"
      ],
      "metadata": {
        "colab": {
          "base_uri": "https://localhost:8080/"
        },
        "id": "w9eizz2Os3-K",
        "outputId": "a6d5a75e-5007-4b3a-e10f-48f4b03a102c"
      },
      "execution_count": 11,
      "outputs": [
        {
          "output_type": "stream",
          "name": "stdout",
          "text": [
            "Age ?12\n",
            "Your ticket costs 300\n"
          ]
        }
      ]
    },
    {
      "cell_type": "markdown",
      "source": [
        "Assignment 2 - Number guessing\n",
        "\n",
        "python code that:\n",
        "\n",
        "1. Picks a secret number\n",
        "2. Asks the user to guiess the number\n",
        "3. Keep asking until the user gueses correctly\n",
        "4. Print 'Congratulations!' you guessed correctly when correct\n"
      ],
      "metadata": {
        "id": "ONGjbTc_xTYo"
      }
    },
    {
      "cell_type": "code",
      "source": [
        "import random\n",
        "\n",
        "secret_number = random.randint(0, 10)\n",
        "\n",
        "print(secret_number)\n",
        "\n",
        "user_selected_number = int(input('Select a random number between 0-10\\n'))\n",
        "\n",
        "while user_selected_number != secret_number:\n",
        "  print('Guess again')\n",
        "  user_selected_number = int(input('\\nSelect a random number between 0-10\\n'))\n",
        "\n",
        "print('-----------------------------------------')\n",
        "print('\\nCongratulations! You guessed correctly.')\n"
      ],
      "metadata": {
        "colab": {
          "base_uri": "https://localhost:8080/"
        },
        "id": "N-EUKkIYt6uH",
        "outputId": "180cc710-6c5e-4d90-d38a-05518ff52966"
      },
      "execution_count": 22,
      "outputs": [
        {
          "output_type": "stream",
          "name": "stdout",
          "text": [
            "9\n",
            "Select a random number between 0-10\n",
            "2\n",
            "Guess again\n",
            "\n",
            "Select a random number between 0-10\n",
            "3\n",
            "Guess again\n",
            "\n",
            "Select a random number between 0-10\n",
            "9\n",
            "-----------------------------------------\n",
            "\n",
            "Congratulations! You guessed correctly.\n"
          ]
        }
      ]
    },
    {
      "cell_type": "markdown",
      "source": [
        "Assignment 3 - Research and practice how to use the following in functions:\n",
        "\n",
        "1. Keyword arguments\n",
        "2. Variable Number of Arguments\n",
        "3. *args and **kwargs"
      ],
      "metadata": {
        "id": "WcGFyBzt0rLq"
      }
    },
    {
      "cell_type": "code",
      "source": [
        "# 1. Keyoword arguments -\n",
        "# Keyword arguments in Python are a way of passing arguments to a function\n",
        "# by explicitly naming the parameter they correspond to,\n",
        "# rather than relying on their position in the function call\n",
        "\n",
        "def greeting(name,message):\n",
        "  print(f'{message},{name}')\n",
        "\n",
        "greeting(message = 'Good morning', name = \" Tsheden!\")\n"
      ],
      "metadata": {
        "colab": {
          "base_uri": "https://localhost:8080/"
        },
        "id": "NOKKBqg9yRnv",
        "outputId": "f2bf59af-1c06-4586-bdf6-c9a7cb7012c1"
      },
      "execution_count": 31,
      "outputs": [
        {
          "output_type": "stream",
          "name": "stdout",
          "text": [
            "Good morning, Tsheden!\n"
          ]
        }
      ]
    },
    {
      "cell_type": "code",
      "source": [
        "# 2. Variable Number of Arguments\n",
        "\n",
        "def greetings(*names):\n",
        "  for name in names:\n",
        "    print(\"Hello\", name)\n",
        "\n",
        "greetings('Tsheden','Tshokey','Tshering')\n"
      ],
      "metadata": {
        "colab": {
          "base_uri": "https://localhost:8080/"
        },
        "id": "cNtECr0j34il",
        "outputId": "463f396a-2a6f-4685-c7ad-c508400995a2"
      },
      "execution_count": 36,
      "outputs": [
        {
          "output_type": "stream",
          "name": "stdout",
          "text": [
            "Hello Tsheden\n",
            "Hello Tshokey\n",
            "Hello Tshering\n"
          ]
        }
      ]
    },
    {
      "cell_type": "code",
      "source": [
        "# 3. *args and **kwargs\n",
        "# *args for Variable Positional Arguments:\n",
        "# The *args syntax allows a function to accept any number of non-keyword (positional) arguments.\n",
        "# Inside the function, args becomes a tuple containing all the positional arguments passed to the function.\n",
        "# The name args is a convention; any valid variable name prefixed with * can be used.\n",
        "\n",
        "def sum_numbers(*args):\n",
        "    total = 0\n",
        "    for num in args:\n",
        "        total += num\n",
        "    return total\n",
        "\n",
        "print(sum_numbers(1, 2, 3))         # Output: 6\n",
        "print(sum_numbers(10, 20, 30, 40)) # Output: 100\n",
        "print(sum_numbers())               # Output: 0\n",
        "\n",
        "# **kwargs for Variable Keyword Arguments:\n",
        "# The **kwargs syntax allows a function to accept any number of keyword arguments.\n",
        "# Inside the function, kwargs becomes a dictionary where keys are the argument names and values are their corresponding values.\n",
        "# The name kwargs is a convention; any valid variable name prefixed with ** can be used.\n",
        "\n",
        "def display_info(**kwargs):\n",
        "    for key, value in kwargs.items():\n",
        "        print(f\"{key}: {value}\")\n",
        "\n",
        "display_info(name=\"Alice\", age=30, city=\"New York\")\n",
        "# Output:\n",
        "# name: Alice\n",
        "# age: 30\n",
        "# city: New York\n",
        "\n",
        "display_info(product=\"Laptop\", price=1200)\n",
        "# Output:\n",
        "# product: Laptop\n",
        "# price: 1200"
      ],
      "metadata": {
        "colab": {
          "base_uri": "https://localhost:8080/"
        },
        "id": "53W9ss-k4pdy",
        "outputId": "a0476c41-d9bc-433e-c875-d2ea171d92a0"
      },
      "execution_count": 39,
      "outputs": [
        {
          "output_type": "stream",
          "name": "stdout",
          "text": [
            "6\n",
            "100\n",
            "0\n",
            "name: Alice\n",
            "age: 30\n",
            "city: New York\n",
            "product: Laptop\n",
            "price: 1200\n"
          ]
        }
      ]
    },
    {
      "cell_type": "markdown",
      "source": [
        "Assigment 4 - Student Grade Calculator\n",
        "\n",
        "Write a python code that:\n",
        "\n",
        "Define a function called calculate_grade(marks) that takes marks (0-100) as input -> Returns the grade based on the scale below:\n",
        "\n",
        "* 90-100 --> A\n",
        "* 80-89 --> B\n",
        "* 70-79 --> C\n",
        "* 60-69 --> D\n",
        "* Below 60 -->\n",
        "\n",
        "Ask the user to enter their marks\n",
        "call the function and print 'Your grade is:{x}'"
      ],
      "metadata": {
        "id": "O3HU_6lK6gSY"
      }
    },
    {
      "cell_type": "code",
      "source": [
        "# Assigment 4\n",
        "def calculate_grade(marks):\n",
        "  if marks >= 90 and marks <= 100:\n",
        "    return 'A'\n",
        "  elif marks >= 80 and marks <= 89:\n",
        "    return 'B'\n",
        "  elif marks >= 70 and marks <= 79:\n",
        "    return 'C'\n",
        "  elif marks >= 60 and marks <= 69:\n",
        "    return 'D'\n",
        "  else:\n",
        "    return 'Failed'\n",
        "\n",
        "mark = int(input('Enter your marks:\\n\\n'))\n",
        "print('Your grade is: ', calculate_grade(mark))"
      ],
      "metadata": {
        "colab": {
          "base_uri": "https://localhost:8080/"
        },
        "id": "DqLQeBQs6K-4",
        "outputId": "cdba27b1-01f5-47a2-d058-8bfd6c0b13e7"
      },
      "execution_count": 42,
      "outputs": [
        {
          "output_type": "stream",
          "name": "stdout",
          "text": [
            "Enter your marks:\n",
            "\n",
            "100\n",
            "Your grade is:  A\n"
          ]
        }
      ]
    },
    {
      "cell_type": "code",
      "source": [],
      "metadata": {
        "id": "lTjX5eQn7Ym0"
      },
      "execution_count": null,
      "outputs": []
    }
  ]
}